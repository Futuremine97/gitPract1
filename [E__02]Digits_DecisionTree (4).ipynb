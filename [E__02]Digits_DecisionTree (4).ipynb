{
 "cells": [
  {
   "cell_type": "code",
   "execution_count": 3,
   "id": "79654961",
   "metadata": {},
   "outputs": [
    {
     "name": "stdout",
     "output_type": "stream",
     "text": [
      "['DESCR', 'data', 'feature_names', 'frame', 'images', 'target', 'target_names']\n",
      "(1797, 64)\n"
     ]
    }
   ],
   "source": [
    "import pandas as pd\n",
    "from sklearn.tree import DecisionTreeClassifier\n",
    "from sklearn.metrics import confusion_matrix\n",
    "import numpy as np\n",
    "from sklearn.datasets import load_digits\n",
    "from sklearn.model_selection import train_test_split\n",
    "from sklearn.metrics import classification_report\n",
    "dt=load_digits()\n",
    "print(dir(dt))\n",
    "import matplotlib.pyplot as plt\n",
    "import seaborn;\n",
    "seaborn.set()\n",
    "dt_data = dt.data\n",
    "dt_label = dt.target\n",
    "print(dt_data.shape)\n",
    "\n",
    "dt_df = pd.DataFrame(data=dt_data, columns=dt.feature_names)\n",
    "dt_df[\"label\"] = dt.target\n",
    "\n",
    "X_train, X_test, y_train, y_test = train_test_split(dt_data, \n",
    "                                                    dt_label, \n",
    "                                                    test_size=0.2, \n",
    "                                                    random_state=7)\n"
   ]
  },
  {
   "cell_type": "code",
   "execution_count": 4,
   "id": "08b42cfd",
   "metadata": {},
   "outputs": [
    {
     "data": {
      "text/plain": [
       "((360, 64), (360,))"
      ]
     },
     "execution_count": 4,
     "metadata": {},
     "output_type": "execute_result"
    }
   ],
   "source": [
    "X_train.shape, y_train.shape\n",
    "X_test.shape, y_test.shape\n"
   ]
  },
  {
   "cell_type": "code",
   "execution_count": 5,
   "id": "b4c6c3ff",
   "metadata": {},
   "outputs": [
    {
     "data": {
      "text/plain": [
       "array([6, 0, 5, 3, 2, 9, 0, 4, 1, 0, 1, 8, 2, 5, 2, 8, 1, 8, 3, 1, 0, 2,\n",
       "       0, 4, 5, 3, 3, 0, 0, 4, 1, 4, 4, 4, 6, 1, 4, 0, 6, 6, 0, 5, 3, 6,\n",
       "       6, 2, 0, 1, 9, 6, 2, 8, 2, 9, 0, 2, 0, 8, 4, 6, 8, 5, 8, 7, 2, 7,\n",
       "       7, 2, 2, 4, 5, 5, 4, 6, 2, 0, 3, 3, 7, 5, 8, 2, 4, 4, 2, 5, 1, 4,\n",
       "       3, 7, 6, 3, 1, 5, 6, 2, 1, 0, 1, 1, 4, 5, 1, 3, 1, 6, 9, 0, 3, 7,\n",
       "       6, 9, 3, 8, 0, 1, 3, 8, 8, 6, 3, 7, 3, 9, 0, 9, 0, 9, 3, 1, 2, 2,\n",
       "       3, 6, 9, 4, 0, 1, 8, 3, 9, 1, 0, 8, 5, 0, 7, 2, 7, 4, 4, 9, 2, 2,\n",
       "       6, 0, 4, 4, 9, 5, 0, 2, 4, 4, 2, 2, 3, 7, 2, 9, 0, 3, 5, 9, 9, 6,\n",
       "       8, 4, 5, 3, 0, 4, 2, 1, 3, 3, 6, 0, 8, 1, 4, 1, 4, 7, 5, 7, 6, 6,\n",
       "       8, 1, 0, 6, 1, 7, 1, 1, 9, 8, 5, 5, 3, 6, 6, 1, 2, 0, 7, 5, 3, 0,\n",
       "       8, 2, 0, 4, 0, 9, 4, 6, 4, 7, 9, 5, 3, 6, 2, 5, 2, 5, 9, 3, 9, 9,\n",
       "       2, 2, 1, 6, 4, 1, 7, 5, 9, 8, 9, 5, 7, 4, 3, 7, 4, 8, 2, 8, 9, 5,\n",
       "       3, 2, 1, 0, 4, 2, 1, 0, 1, 4, 1, 7, 6, 4, 7, 7, 9, 8, 3, 8, 4, 3,\n",
       "       5, 9, 4, 4, 8, 1, 8, 7, 2, 3, 2, 1, 1, 0, 2, 8, 0, 7, 4, 3, 1, 0,\n",
       "       2, 3, 9, 9, 8, 5, 6, 2, 2, 6, 5, 0, 8, 9, 8, 9, 0, 0, 4, 7, 4, 1,\n",
       "       9, 6, 7, 3, 7, 4, 0, 2, 1, 7, 6, 5, 3, 2, 3, 5, 7, 1, 4, 1, 3, 3,\n",
       "       8, 8, 1, 0, 1, 9, 8, 0])"
      ]
     },
     "execution_count": 5,
     "metadata": {},
     "output_type": "execute_result"
    }
   ],
   "source": [
    "decision_tree = DecisionTreeClassifier(random_state=32)\n",
    "decision_tree.fit(X_train, y_train)\n",
    "y_pred = decision_tree.predict(X_test)\n",
    "y_pred"
   ]
  },
  {
   "cell_type": "code",
   "execution_count": 6,
   "id": "c053085a",
   "metadata": {},
   "outputs": [
    {
     "data": {
      "text/plain": [
       "array([6, 0, 5, 9, 2, 9, 0, 4, 1, 0, 1, 8, 2, 5, 2, 8, 1, 8, 9, 1, 0, 2,\n",
       "       0, 4, 5, 3, 3, 0, 0, 4, 1, 4, 4, 4, 6, 1, 4, 0, 6, 6, 0, 9, 3, 6,\n",
       "       6, 2, 0, 1, 9, 6, 2, 8, 9, 9, 0, 2, 0, 8, 4, 6, 8, 5, 8, 7, 8, 7,\n",
       "       7, 4, 1, 4, 5, 5, 4, 6, 2, 0, 1, 3, 7, 5, 8, 2, 4, 4, 2, 5, 1, 9,\n",
       "       3, 7, 6, 3, 3, 5, 6, 2, 1, 0, 1, 9, 4, 1, 1, 3, 1, 6, 9, 0, 3, 7,\n",
       "       6, 9, 3, 8, 0, 8, 3, 8, 8, 6, 3, 7, 3, 9, 0, 3, 0, 9, 8, 1, 2, 2,\n",
       "       3, 6, 9, 4, 0, 5, 4, 2, 9, 1, 0, 2, 5, 0, 2, 2, 7, 4, 6, 9, 8, 2,\n",
       "       6, 0, 4, 4, 8, 5, 0, 2, 4, 6, 8, 2, 3, 7, 2, 9, 0, 3, 5, 9, 1, 6,\n",
       "       8, 7, 5, 3, 0, 4, 2, 1, 3, 3, 6, 0, 2, 8, 4, 1, 4, 7, 5, 7, 6, 6,\n",
       "       8, 1, 0, 6, 8, 7, 1, 1, 9, 8, 5, 5, 3, 6, 8, 1, 2, 0, 7, 5, 3, 0,\n",
       "       8, 2, 0, 4, 0, 9, 4, 8, 4, 7, 9, 7, 3, 6, 2, 5, 1, 5, 9, 2, 9, 9,\n",
       "       8, 2, 1, 6, 7, 1, 7, 5, 7, 8, 9, 5, 7, 4, 3, 7, 8, 8, 2, 8, 9, 5,\n",
       "       3, 2, 8, 0, 4, 2, 1, 0, 8, 4, 1, 7, 1, 4, 7, 7, 1, 8, 3, 8, 4, 3,\n",
       "       5, 9, 4, 4, 8, 1, 8, 7, 2, 3, 1, 1, 1, 0, 2, 8, 0, 7, 4, 0, 1, 0,\n",
       "       2, 3, 7, 9, 8, 5, 8, 2, 2, 6, 5, 0, 8, 9, 8, 9, 0, 0, 9, 7, 4, 1,\n",
       "       2, 6, 7, 3, 7, 4, 0, 2, 1, 7, 2, 5, 7, 2, 3, 5, 7, 1, 4, 1, 3, 3,\n",
       "       8, 8, 1, 0, 1, 9, 3, 0])"
      ]
     },
     "execution_count": 6,
     "metadata": {},
     "output_type": "execute_result"
    }
   ],
   "source": [
    "y_test"
   ]
  },
  {
   "cell_type": "code",
   "execution_count": 7,
   "id": "a224de00",
   "metadata": {},
   "outputs": [
    {
     "data": {
      "text/plain": [
       "0.8555555555555555"
      ]
     },
     "execution_count": 7,
     "metadata": {},
     "output_type": "execute_result"
    }
   ],
   "source": [
    "from sklearn.metrics import accuracy_score\n",
    "from sklearn.ensemble import RandomForestClassifier\n",
    "\n",
    "accuracy = accuracy_score(y_test, y_pred)\n",
    "accuracy\n",
    "\n"
   ]
  },
  {
   "cell_type": "code",
   "execution_count": 8,
   "id": "454636fb",
   "metadata": {},
   "outputs": [
    {
     "name": "stdout",
     "output_type": "stream",
     "text": [
      "[[0.97674419 0.         0.         0.02325581 0.         0.\n",
      "  0.         0.         0.         0.        ]\n",
      " [0.         0.80952381 0.07142857 0.02380952 0.         0.02380952\n",
      "  0.02380952 0.         0.         0.04761905]\n",
      " [0.         0.         0.825      0.05       0.         0.\n",
      "  0.025      0.025      0.05       0.025     ]\n",
      " [0.         0.02941176 0.         0.91176471 0.         0.\n",
      "  0.         0.         0.02941176 0.02941176]\n",
      " [0.         0.         0.02702703 0.         0.94594595 0.\n",
      "  0.         0.         0.02702703 0.        ]\n",
      " [0.         0.03571429 0.         0.         0.         0.96428571\n",
      "  0.         0.         0.         0.        ]\n",
      " [0.         0.         0.         0.         0.07142857 0.\n",
      "  0.92857143 0.         0.         0.        ]\n",
      " [0.         0.         0.         0.03030303 0.06060606 0.03030303\n",
      "  0.         0.81818182 0.         0.06060606]\n",
      " [0.         0.11627907 0.09302326 0.02325581 0.02325581 0.\n",
      "  0.06976744 0.         0.65116279 0.02325581]\n",
      " [0.         0.03125    0.03125    0.0625     0.0625     0.03125\n",
      "  0.         0.         0.         0.78125   ]]\n",
      "------------------------------------------------------------------------------------------\n",
      "52\n",
      "------------------------------------------------------------------------------------------\n",
      "------------------------------------------------------------------------------------------\n",
      "10.0\n",
      "1.3875696008647438\n",
      "제가 만든 성능지표는 : \n",
      "0.13875696008647437\n"
     ]
    }
   ],
   "source": [
    "\n",
    "confusion_matrix(y_test, y_pred)\n",
    "array = confusion_matrix(y_test, y_pred) \n",
    "total = np.sum(array, axis = 1)\n",
    "array1 = array / total[:,None]\n",
    "t1 = array1\n",
    "print(array1)\n",
    "print('-'*90)\n",
    "sum1 = 0\n",
    "for i in range(array1.shape[0]):\n",
    "    for j in range (array1.shape[1]):\n",
    "        if j != i:\n",
    "            sum1 = sum1 + array[i][j]\n",
    "print(sum1)\n",
    "\n",
    "print('-'*90)\n",
    "a2 = 0\n",
    "print('-'*90)\n",
    "for value1 in range(9,-9,-1):\n",
    "    d2 = np.diag(array1,k= value1)\n",
    "    a2 = a2 + np.sum(d2)\n",
    "print(a2)\n",
    "\n",
    "d29 = np.sum(np.diag(array1,k=0))\n",
    "print(a2-d29)\n",
    "e2 = a2 - d29\n",
    "print(\"제가 만든 성능지표는 : \")\n",
    "print(e2/a2)"
   ]
  },
  {
   "cell_type": "code",
   "execution_count": 9,
   "id": "a923d5ab",
   "metadata": {},
   "outputs": [
    {
     "name": "stdout",
     "output_type": "stream",
     "text": [
      "              precision    recall  f1-score   support\n",
      "\n",
      "           0       1.00      0.98      0.99        43\n",
      "           1       0.93      1.00      0.97        42\n",
      "           2       1.00      1.00      1.00        40\n",
      "           3       1.00      1.00      1.00        34\n",
      "           4       0.93      1.00      0.96        37\n",
      "           5       0.90      0.96      0.93        28\n",
      "           6       1.00      0.96      0.98        28\n",
      "           7       0.94      0.97      0.96        33\n",
      "           8       1.00      0.84      0.91        43\n",
      "           9       0.94      0.94      0.94        32\n",
      "\n",
      "    accuracy                           0.96       360\n",
      "   macro avg       0.96      0.96      0.96       360\n",
      "weighted avg       0.97      0.96      0.96       360\n",
      "\n",
      "------------------------------------------------------------------------------------------\n",
      "52\n",
      "------------------------------------------------------------------------------------------\n",
      "------------------------------------------------------------------------------------------\n",
      "10.0\n",
      "1.3875696008647438\n",
      "제가 만든 성능지표는 : \n",
      "0.13875696008647437\n"
     ]
    }
   ],
   "source": [
    "random_forest = RandomForestClassifier(random_state=32)\n",
    "random_forest.fit(X_train, y_train)\n",
    "y_pred = random_forest.predict(X_test)\n",
    "\n",
    "print(classification_report(y_test, y_pred))\n",
    "\n",
    "array2 = confusion_matrix(y_test, y_pred) \n",
    "total2 = np.sum(array, axis = 1)\n",
    "array2 = array / total2[:,None]\n",
    "t2 = array2\n",
    "array2\n",
    "print('-'*90)\n",
    "sum2 = 0\n",
    "for i in range(array2.shape[0]):\n",
    "    for j in range (array2.shape[1]):\n",
    "        if j != i:\n",
    "            sum2 = sum2 + array[i][j]\n",
    "print(sum2)\n",
    "\n",
    "print('-'*90)\n",
    "a3 = 0\n",
    "print('-'*90)\n",
    "for value1 in range(9,-9,-1):\n",
    "    d2 = np.diag(array2,k= value1)\n",
    "    a3 = a3 + np.sum(d2)\n",
    "print(a3)\n",
    "\n",
    "d30 = np.sum(np.diag(array2,k=0))\n",
    "print(a3-d30)\n",
    "e3 = a3 - d30\n",
    "print(\"제가 만든 성능지표는 : \")\n",
    "print(e3/a3)"
   ]
  },
  {
   "cell_type": "code",
   "execution_count": 10,
   "id": "e6a4bdc8",
   "metadata": {},
   "outputs": [
    {
     "data": {
      "text/plain": [
       "0.9638888888888889"
      ]
     },
     "execution_count": 10,
     "metadata": {},
     "output_type": "execute_result"
    }
   ],
   "source": [
    "accuracy = accuracy_score(y_test, y_pred)\n",
    "accuracy"
   ]
  },
  {
   "cell_type": "code",
   "execution_count": 11,
   "id": "66ccb938",
   "metadata": {},
   "outputs": [
    {
     "data": {
      "text/plain": [
       "array([[42,  0,  0,  0,  1,  0,  0,  0,  0,  0],\n",
       "       [ 0, 42,  0,  0,  0,  0,  0,  0,  0,  0],\n",
       "       [ 0,  0, 40,  0,  0,  0,  0,  0,  0,  0],\n",
       "       [ 0,  0,  0, 34,  0,  0,  0,  0,  0,  0],\n",
       "       [ 0,  0,  0,  0, 37,  0,  0,  0,  0,  0],\n",
       "       [ 0,  0,  0,  0,  0, 27,  0,  0,  0,  1],\n",
       "       [ 0,  0,  0,  0,  1,  0, 27,  0,  0,  0],\n",
       "       [ 0,  0,  0,  0,  0,  0,  0, 32,  0,  1],\n",
       "       [ 0,  3,  0,  0,  1,  1,  0,  2, 36,  0],\n",
       "       [ 0,  0,  0,  0,  0,  2,  0,  0,  0, 30]])"
      ]
     },
     "execution_count": 11,
     "metadata": {},
     "output_type": "execute_result"
    }
   ],
   "source": [
    "y_test\n",
    "\n",
    "confusion_matrix(y_test, y_pred)"
   ]
  },
  {
   "cell_type": "code",
   "execution_count": 12,
   "id": "edc58e35",
   "metadata": {},
   "outputs": [
    {
     "name": "stdout",
     "output_type": "stream",
     "text": [
      "              precision    recall  f1-score   support\n",
      "\n",
      "           0       1.00      1.00      1.00        43\n",
      "           1       0.95      1.00      0.98        42\n",
      "           2       1.00      1.00      1.00        40\n",
      "           3       1.00      1.00      1.00        34\n",
      "           4       1.00      1.00      1.00        37\n",
      "           5       0.93      1.00      0.97        28\n",
      "           6       1.00      1.00      1.00        28\n",
      "           7       1.00      1.00      1.00        33\n",
      "           8       1.00      0.93      0.96        43\n",
      "           9       1.00      0.97      0.98        32\n",
      "\n",
      "    accuracy                           0.99       360\n",
      "   macro avg       0.99      0.99      0.99       360\n",
      "weighted avg       0.99      0.99      0.99       360\n",
      "\n",
      "------------------------------------------------------------------------------------------\n",
      "4\n",
      "------------------------------------------------------------------------------------------\n",
      "------------------------------------------------------------------------------------------\n",
      "10.0\n",
      "0.10101744186046524\n",
      "제가 만든 성능지표는 : \n",
      "0.010101744186046525\n"
     ]
    }
   ],
   "source": [
    "from sklearn import svm\n",
    "svm_model = svm.SVC()\n",
    "random_forest = RandomForestClassifier(random_state=32)\n",
    "svm_model.fit(X_train, y_train)\n",
    "y_pred = svm_model.predict(X_test)\n",
    "\n",
    "print(classification_report(y_test, y_pred))\n",
    "\n",
    "confusion_matrix(y_test, y_pred) #svm 모델이 정확도가(precision) 높음을 확인가능.\n",
    "array = confusion_matrix(y_test, y_pred) \n",
    "total = np.sum(array, axis = 1)\n",
    "array3 = array / total[:,None]\n",
    "t3 = array3\n",
    "array3\n",
    "print('-'*90)\n",
    "sum3 = 0\n",
    "for i in range(array3.shape[0]):\n",
    "    for j in range (array3.shape[1]):\n",
    "        if j != i:\n",
    "            sum3 = sum3 + array[i][j]\n",
    "print(sum3)\n",
    "\n",
    "print('-'*90)\n",
    "a4 = 0\n",
    "print('-'*90)\n",
    "for value1 in range(9,-9,-1):\n",
    "    d3 = np.diag(array3,k= value1)\n",
    "    a4 = a4 + np.sum(d3)\n",
    "print(a4)\n",
    "\n",
    "d31 = np.sum(np.diag(array3,k=0))\n",
    "print(a4-d31)\n",
    "e4 = a4 - d31\n",
    "print(\"제가 만든 성능지표는 : \")\n",
    "print(e4/a4)"
   ]
  },
  {
   "cell_type": "code",
   "execution_count": 13,
   "id": "a4ebd518",
   "metadata": {},
   "outputs": [
    {
     "name": "stdout",
     "output_type": "stream",
     "text": [
      "classifier\n",
      "              precision    recall  f1-score   support\n",
      "\n",
      "           0       1.00      1.00      1.00        43\n",
      "           1       0.89      0.93      0.91        42\n",
      "           2       0.98      1.00      0.99        40\n",
      "           3       0.94      0.94      0.94        34\n",
      "           4       1.00      0.97      0.99        37\n",
      "           5       0.80      1.00      0.89        28\n",
      "           6       0.96      0.93      0.95        28\n",
      "           7       0.94      0.97      0.96        33\n",
      "           8       0.95      0.88      0.92        43\n",
      "           9       0.96      0.78      0.86        32\n",
      "\n",
      "    accuracy                           0.94       360\n",
      "   macro avg       0.94      0.94      0.94       360\n",
      "weighted avg       0.95      0.94      0.94       360\n",
      "\n",
      "------------------------------------------------------------------------------------------\n",
      "21\n",
      "------------------------------------------------------------------------------------------\n",
      "------------------------------------------------------------------------------------------\n",
      "10.000000000000002\n",
      "0.5940397993664082\n",
      "제가 만든 성능지표는 : \n",
      "0.0594039799366408\n"
     ]
    }
   ],
   "source": [
    "from sklearn.linear_model import SGDClassifier\n",
    "sgd_model = SGDClassifier()\n",
    "\n",
    "print(sgd_model._estimator_type)\n",
    "\n",
    "random_forest = RandomForestClassifier(random_state=32)\n",
    "sgd_model.fit(X_train, y_train)\n",
    "y_pred = sgd_model.predict(X_test)\n",
    "\n",
    "print(classification_report(y_test, y_pred))\n",
    "from sklearn.metrics import confusion_matrix\n",
    "\n",
    "confusion_matrix(y_test, y_pred)\n",
    "array = confusion_matrix(y_test, y_pred) \n",
    "total = np.sum(array, axis = 1)\n",
    "array4 = array / total[:,None]\n",
    "t4 = array4\n",
    "array4\n",
    "print('-'*90)\n",
    "sum4 = 0\n",
    "for i in range(array4.shape[0]):\n",
    "    for j in range (array4.shape[1]):\n",
    "        if j != i:\n",
    "            sum4 = sum4 + array[i][j]\n",
    "print(sum4)\n",
    "\n",
    "print('-'*90)\n",
    "a5 = 0\n",
    "print('-'*90)\n",
    "for value1 in range(9,-9,-1):\n",
    "    d4 = np.diag(array4,k= value1)\n",
    "    a5 = a5 + np.sum(d4)\n",
    "print(a5)\n",
    "\n",
    "d32 = np.sum(np.diag(array4,k=0))\n",
    "print(a5 - d32)\n",
    "e5 = a5 - d32\n",
    "print(\"제가 만든 성능지표는 : \")\n",
    "print(e5/a5)"
   ]
  },
  {
   "cell_type": "code",
   "execution_count": 14,
   "id": "4cf0dea2",
   "metadata": {},
   "outputs": [
    {
     "name": "stdout",
     "output_type": "stream",
     "text": [
      "classifier\n",
      "              precision    recall  f1-score   support\n",
      "\n",
      "           0       1.00      1.00      1.00        43\n",
      "           1       0.95      0.95      0.95        42\n",
      "           2       0.98      1.00      0.99        40\n",
      "           3       0.94      0.97      0.96        34\n",
      "           4       0.97      1.00      0.99        37\n",
      "           5       0.82      0.96      0.89        28\n",
      "           6       1.00      0.96      0.98        28\n",
      "           7       0.97      0.97      0.97        33\n",
      "           8       0.92      0.81      0.86        43\n",
      "           9       0.97      0.91      0.94        32\n",
      "\n",
      "    accuracy                           0.95       360\n",
      "   macro avg       0.95      0.95      0.95       360\n",
      "weighted avg       0.95      0.95      0.95       360\n",
      "\n",
      "------------------------------------------------------------------------------------------\n",
      "------------------------------------------------------------------------------------------\n",
      "10.0\n",
      "0.45855892568443757\n",
      "제가 만든 성능지표는 : \n",
      "0.04585589256844376\n"
     ]
    },
    {
     "name": "stderr",
     "output_type": "stream",
     "text": [
      "/opt/conda/lib/python3.9/site-packages/sklearn/linear_model/_logistic.py:814: ConvergenceWarning: lbfgs failed to converge (status=1):\n",
      "STOP: TOTAL NO. of ITERATIONS REACHED LIMIT.\n",
      "\n",
      "Increase the number of iterations (max_iter) or scale the data as shown in:\n",
      "    https://scikit-learn.org/stable/modules/preprocessing.html\n",
      "Please also refer to the documentation for alternative solver options:\n",
      "    https://scikit-learn.org/stable/modules/linear_model.html#logistic-regression\n",
      "  n_iter_i = _check_optimize_result(\n"
     ]
    }
   ],
   "source": [
    "from sklearn.linear_model import LogisticRegression\n",
    "logistic_model = LogisticRegression()\n",
    "\n",
    "print(logistic_model._estimator_type)\n",
    "\n",
    "logistic_model.fit(X_train, y_train)\n",
    "y_pred = logistic_model.predict(X_test)\n",
    "\n",
    "print(classification_report(y_test, y_pred))\n",
    "from sklearn.metrics import confusion_matrix\n",
    "\n",
    "confusion_matrix(y_test, y_pred)\n",
    "array = confusion_matrix(y_test, y_pred) \n",
    "total = np.sum(array, axis = 1)\n",
    "array5 = array / total[:,None]\n",
    "t5 = array5\n",
    "\n",
    "print('-'*90)\n",
    "a6 = 0\n",
    "print('-'*90)\n",
    "for value1 in range(9,-9,-1):\n",
    "    d5 = np.diag(array5,k= value1)\n",
    "    a6 = a6 + np.sum(d5)\n",
    "print(a6)\n",
    "\n",
    "d33 = np.sum(np.diag(array5,k=0))\n",
    "print(a6 - d33)\n",
    "e6 = a6 - d33\n",
    "print(\"제가 만든 성능지표는 : \")\n",
    "print(e6/a6)"
   ]
  },
  {
   "cell_type": "code",
   "execution_count": null,
   "id": "d58dad2a",
   "metadata": {},
   "outputs": [],
   "source": []
  },
  {
   "cell_type": "code",
   "execution_count": 15,
   "id": "181f439d",
   "metadata": {},
   "outputs": [
    {
     "name": "stdout",
     "output_type": "stream",
     "text": [
      "------------------------------------------------------------------------------------------\n",
      "decision forest\n",
      "\n",
      "\n",
      "[[0.97674419 0.         0.         0.02325581 0.         0.\n",
      "  0.         0.         0.         0.        ]\n",
      " [0.         0.80952381 0.07142857 0.02380952 0.         0.02380952\n",
      "  0.02380952 0.         0.         0.04761905]\n",
      " [0.         0.         0.825      0.05       0.         0.\n",
      "  0.025      0.025      0.05       0.025     ]\n",
      " [0.         0.02941176 0.         0.91176471 0.         0.\n",
      "  0.         0.         0.02941176 0.02941176]\n",
      " [0.         0.         0.02702703 0.         0.94594595 0.\n",
      "  0.         0.         0.02702703 0.        ]\n",
      " [0.         0.03571429 0.         0.         0.         0.96428571\n",
      "  0.         0.         0.         0.        ]\n",
      " [0.         0.         0.         0.         0.07142857 0.\n",
      "  0.92857143 0.         0.         0.        ]\n",
      " [0.         0.         0.         0.03030303 0.06060606 0.03030303\n",
      "  0.         0.81818182 0.         0.06060606]\n",
      " [0.         0.11627907 0.09302326 0.02325581 0.02325581 0.\n",
      "  0.06976744 0.         0.65116279 0.02325581]\n",
      " [0.         0.03125    0.03125    0.0625     0.0625     0.03125\n",
      "  0.         0.         0.         0.78125   ]]\n",
      "\n",
      "\n",
      "[0.97674419 1.02217893 1.04772885 1.12488889 1.16373639 1.04964827\n",
      " 1.04714839 0.84318182 0.75760158 0.96714269]\n",
      "------------------------------------------------------------------------------------------\n",
      "random forest\n",
      "\n",
      "\n",
      "[[0.97674419 0.         0.         0.02325581 0.         0.\n",
      "  0.         0.         0.         0.        ]\n",
      " [0.         0.80952381 0.07142857 0.02380952 0.         0.02380952\n",
      "  0.02380952 0.         0.         0.04761905]\n",
      " [0.         0.         0.825      0.05       0.         0.\n",
      "  0.025      0.025      0.05       0.025     ]\n",
      " [0.         0.02941176 0.         0.91176471 0.         0.\n",
      "  0.         0.         0.02941176 0.02941176]\n",
      " [0.         0.         0.02702703 0.         0.94594595 0.\n",
      "  0.         0.         0.02702703 0.        ]\n",
      " [0.         0.03571429 0.         0.         0.         0.96428571\n",
      "  0.         0.         0.         0.        ]\n",
      " [0.         0.         0.         0.         0.07142857 0.\n",
      "  0.92857143 0.         0.         0.        ]\n",
      " [0.         0.         0.         0.03030303 0.06060606 0.03030303\n",
      "  0.         0.81818182 0.         0.06060606]\n",
      " [0.         0.11627907 0.09302326 0.02325581 0.02325581 0.\n",
      "  0.06976744 0.         0.65116279 0.02325581]\n",
      " [0.         0.03125    0.03125    0.0625     0.0625     0.03125\n",
      "  0.         0.         0.         0.78125   ]]\n",
      "\n",
      "\n",
      "[0.97674419 1.02217893 1.04772885 1.12488889 1.16373639 1.04964827\n",
      " 1.04714839 0.84318182 0.75760158 0.96714269]\n",
      "------------------------------------------------------------------------------------------\n",
      "svm model\n",
      "\n",
      "\n",
      "[[1.         0.         0.         0.         0.         0.\n",
      "  0.         0.         0.         0.        ]\n",
      " [0.         1.         0.         0.         0.         0.\n",
      "  0.         0.         0.         0.        ]\n",
      " [0.         0.         1.         0.         0.         0.\n",
      "  0.         0.         0.         0.        ]\n",
      " [0.         0.         0.         1.         0.         0.\n",
      "  0.         0.         0.         0.        ]\n",
      " [0.         0.         0.         0.         1.         0.\n",
      "  0.         0.         0.         0.        ]\n",
      " [0.         0.         0.         0.         0.         1.\n",
      "  0.         0.         0.         0.        ]\n",
      " [0.         0.         0.         0.         0.         0.\n",
      "  1.         0.         0.         0.        ]\n",
      " [0.         0.         0.         0.         0.         0.\n",
      "  0.         1.         0.         0.        ]\n",
      " [0.         0.04651163 0.         0.         0.         0.02325581\n",
      "  0.         0.         0.93023256 0.        ]\n",
      " [0.         0.         0.         0.         0.         0.03125\n",
      "  0.         0.         0.         0.96875   ]]\n",
      "\n",
      "\n",
      "[1.         1.04651163 1.         1.         1.         1.05450581\n",
      " 1.         1.         0.93023256 0.96875   ]\n",
      "------------------------------------------------------------------------------------------\n",
      "sgd model\n",
      "\n",
      "\n",
      "[[1.         0.         0.         0.         0.         0.\n",
      "  0.         0.         0.         0.        ]\n",
      " [0.         0.92857143 0.         0.02380952 0.         0.02380952\n",
      "  0.         0.         0.         0.02380952]\n",
      " [0.         0.         1.         0.         0.         0.\n",
      "  0.         0.         0.         0.        ]\n",
      " [0.         0.         0.         0.94117647 0.         0.02941176\n",
      "  0.         0.02941176 0.         0.        ]\n",
      " [0.         0.         0.         0.         0.97297297 0.\n",
      "  0.02702703 0.         0.         0.        ]\n",
      " [0.         0.         0.         0.         0.         1.\n",
      "  0.         0.         0.         0.        ]\n",
      " [0.         0.03571429 0.         0.         0.         0.\n",
      "  0.92857143 0.         0.03571429 0.        ]\n",
      " [0.         0.         0.         0.03030303 0.         0.\n",
      "  0.         0.96969697 0.         0.        ]\n",
      " [0.         0.06976744 0.02325581 0.         0.         0.02325581\n",
      "  0.         0.         0.88372093 0.        ]\n",
      " [0.         0.03125    0.         0.         0.         0.125\n",
      "  0.         0.03125    0.03125    0.78125   ]]\n",
      "\n",
      "\n",
      "[1.         1.06530316 1.02325581 0.99528902 0.97297297 1.2014771\n",
      " 0.95559846 1.03035873 0.95068522 0.80505952]\n",
      "------------------------------------------------------------------------------------------\n",
      "logistic model\n",
      "\n",
      "\n",
      "[[1.         0.         0.         0.         0.         0.\n",
      "  0.         0.         0.         0.        ]\n",
      " [0.         0.95238095 0.         0.         0.         0.\n",
      "  0.         0.         0.02380952 0.02380952]\n",
      " [0.         0.         1.         0.         0.         0.\n",
      "  0.         0.         0.         0.        ]\n",
      " [0.         0.         0.         0.97058824 0.         0.\n",
      "  0.         0.02941176 0.         0.        ]\n",
      " [0.         0.         0.         0.         1.         0.\n",
      "  0.         0.         0.         0.        ]\n",
      " [0.         0.         0.         0.         0.         0.96428571\n",
      "  0.         0.         0.03571429 0.        ]\n",
      " [0.         0.         0.         0.         0.         0.\n",
      "  0.96428571 0.         0.03571429 0.        ]\n",
      " [0.         0.         0.         0.03030303 0.         0.\n",
      "  0.         0.96969697 0.         0.        ]\n",
      " [0.         0.04651163 0.02325581 0.         0.02325581 0.09302326\n",
      "  0.         0.         0.81395349 0.        ]\n",
      " [0.         0.         0.         0.03125    0.         0.0625\n",
      "  0.         0.         0.         0.90625   ]]\n",
      "\n",
      "\n",
      "[1.         0.99889258 1.02325581 1.03214127 1.02325581 1.11980897\n",
      " 0.96428571 0.99910873 0.90919158 0.93005952]\n"
     ]
    },
    {
     "data": {
      "text/plain": [
       "(array([2., 0., 1., 0., 3., 3., 0., 0., 0., 1.]),\n",
       " array([0.90919158, 0.93025332, 0.95131506, 0.9723768 , 0.99343854,\n",
       "        1.01450028, 1.03556202, 1.05662375, 1.07768549, 1.09874723,\n",
       "        1.11980897]),\n",
       " <BarContainer object of 10 artists>)"
      ]
     },
     "execution_count": 15,
     "metadata": {},
     "output_type": "execute_result"
    },
    {
     "data": {
      "image/png": "[encoded data removed]",
      "text/plain": [
       "<Figure size 432x288 with 1 Axes>"
      ]
     },
     "metadata": {},
     "output_type": "display_data"
    }
   ],
   "source": [
    "print('-'*90)\n",
    "print('decision forest')\n",
    "print('\\n')\n",
    "print(t1)\n",
    "print('\\n')\n",
    "\n",
    "x1 = t1.sum(axis = 0)\n",
    "\n",
    "print(x1)\n",
    "plt.hist(x1, histtype = 'barstacked',orientation = 'horizontal',color = 'white')\n",
    "\n",
    "\n",
    "print('-'*90)\n",
    "print('random forest')\n",
    "print('\\n')\n",
    "print(t2)\n",
    "x2 = t2.sum(axis = 0)\n",
    "print('\\n')\n",
    "print(x2)\n",
    "plt.hist(x2, histtype = 'barstacked',orientation = 'horizontal', color = 'red')\n",
    "\n",
    "print('-'*90)\n",
    "print('svm model')\n",
    "print('\\n')\n",
    "print(t3)\n",
    "print('\\n')\n",
    "x3 = t3.sum(axis = 0)\n",
    "print(x3)\n",
    "plt.hist(x3, histtype = 'barstacked',orientation = 'horizontal', color = 'black')\n",
    "\n",
    "print('-'*90)\n",
    "print('sgd model')\n",
    "print('\\n')\n",
    "print(t4)\n",
    "print('\\n')\n",
    "x4 = t4.sum(axis = 0)\n",
    "print(x4)\n",
    "plt.hist(x4, histtype = 'barstacked',orientation = 'horizontal', color = 'gray')\n",
    "\n",
    "print('-'*90)\n",
    "print('logistic model')\n",
    "print('\\n')\n",
    "print(t5)\n",
    "print('\\n')\n",
    "x6 = t5.sum(axis = 0)\n",
    "print(x6)\n",
    "plt.hist(x6, histtype = 'barstacked',orientation = 'horizontal',color ='yellow')\n",
    "\n"
   ]
  },
  {
   "cell_type": "code",
   "execution_count": 16,
   "id": "78596557",
   "metadata": {},
   "outputs": [
    {
     "data": {
      "text/plain": [
       "(array([[9., 0., 0., 0., 0., 0., 0., 0., 0., 1.],\n",
       "        [9., 0., 0., 0., 0., 0., 0., 0., 0., 1.],\n",
       "        [9., 0., 0., 0., 0., 0., 0., 0., 0., 1.],\n",
       "        [9., 0., 0., 0., 0., 0., 0., 0., 0., 1.],\n",
       "        [9., 0., 0., 0., 0., 0., 0., 0., 0., 1.],\n",
       "        [9., 0., 0., 0., 0., 0., 0., 0., 0., 1.],\n",
       "        [9., 0., 0., 0., 0., 0., 0., 0., 0., 1.],\n",
       "        [9., 0., 0., 0., 0., 0., 0., 0., 0., 1.],\n",
       "        [9., 0., 0., 0., 0., 0., 0., 0., 0., 1.],\n",
       "        [9., 0., 0., 0., 0., 0., 0., 0., 0., 1.]]),\n",
       " array([0. , 0.1, 0.2, 0.3, 0.4, 0.5, 0.6, 0.7, 0.8, 0.9, 1. ]),\n",
       " <a list of 10 BarContainer objects>)"
      ]
     },
     "execution_count": 16,
     "metadata": {},
     "output_type": "execute_result"
    },
    {
     "data": {
      "image/png": "[encoded data removed]",
      "text/plain": [
       "<Figure size 432x288 with 1 Axes>"
      ]
     },
     "metadata": {},
     "output_type": "display_data"
    }
   ],
   "source": [
    "plt.hist(t3)\n",
    "\n"
   ]
  },
  {
   "cell_type": "code",
   "execution_count": 17,
   "id": "11e78f4c",
   "metadata": {
    "scrolled": true
   },
   "outputs": [
    {
     "data": {
      "text/plain": [
       "(array([[9., 0., 0., 0., 0., 0., 0., 0., 0., 1.],\n",
       "        [8., 1., 0., 0., 0., 0., 0., 0., 1., 0.],\n",
       "        [9., 0., 0., 0., 0., 0., 0., 0., 1., 0.],\n",
       "        [9., 0., 0., 0., 0., 0., 0., 0., 0., 1.],\n",
       "        [9., 0., 0., 0., 0., 0., 0., 0., 0., 1.],\n",
       "        [9., 0., 0., 0., 0., 0., 0., 0., 0., 1.],\n",
       "        [9., 0., 0., 0., 0., 0., 0., 0., 0., 1.],\n",
       "        [9., 0., 0., 0., 0., 0., 0., 0., 1., 0.],\n",
       "        [9., 0., 0., 0., 0., 0., 1., 0., 0., 0.],\n",
       "        [9., 0., 0., 0., 0., 0., 0., 1., 0., 0.]]),\n",
       " array([0.        , 0.09767442, 0.19534884, 0.29302326, 0.39069767,\n",
       "        0.48837209, 0.58604651, 0.68372093, 0.78139535, 0.87906977,\n",
       "        0.97674419]),\n",
       " <a list of 10 BarContainer objects>)"
      ]
     },
     "execution_count": 17,
     "metadata": {},
     "output_type": "execute_result"
    },
    {
     "data": {
      "image/png": "[encoded data removed]",
      "text/plain": [
       "<Figure size 432x288 with 1 Axes>"
      ]
     },
     "metadata": {},
     "output_type": "display_data"
    }
   ],
   "source": [
    "plt.hist(t1)\n",
    "\n"
   ]
  },
  {
   "cell_type": "code",
   "execution_count": 18,
   "id": "f1564d38",
   "metadata": {},
   "outputs": [
    {
     "data": {
      "text/plain": [
       "(array([[9., 0., 0., 0., 0., 0., 0., 0., 0., 1.],\n",
       "        [8., 1., 0., 0., 0., 0., 0., 0., 1., 0.],\n",
       "        [9., 0., 0., 0., 0., 0., 0., 0., 1., 0.],\n",
       "        [9., 0., 0., 0., 0., 0., 0., 0., 0., 1.],\n",
       "        [9., 0., 0., 0., 0., 0., 0., 0., 0., 1.],\n",
       "        [9., 0., 0., 0., 0., 0., 0., 0., 0., 1.],\n",
       "        [9., 0., 0., 0., 0., 0., 0., 0., 0., 1.],\n",
       "        [9., 0., 0., 0., 0., 0., 0., 0., 1., 0.],\n",
       "        [9., 0., 0., 0., 0., 0., 1., 0., 0., 0.],\n",
       "        [9., 0., 0., 0., 0., 0., 0., 1., 0., 0.]]),\n",
       " array([0.        , 0.09767442, 0.19534884, 0.29302326, 0.39069767,\n",
       "        0.48837209, 0.58604651, 0.68372093, 0.78139535, 0.87906977,\n",
       "        0.97674419]),\n",
       " <a list of 10 BarContainer objects>)"
      ]
     },
     "execution_count": 18,
     "metadata": {},
     "output_type": "execute_result"
    },
    {
     "data": {
      "image/png": "[encoded data removed]",
      "text/plain": [
       "<Figure size 432x288 with 1 Axes>"
      ]
     },
     "metadata": {},
     "output_type": "display_data"
    }
   ],
   "source": [
    "plt.hist(t2)"
   ]
  },
  {
   "cell_type": "markdown",
   "id": "3e4e1362",
   "metadata": {},
   "source": [
    "#t1,t2의 분포가 똑같은 것을 확인할 수 있다. 제가 만든 성능지표에서도 똑같은 값이 나옵니다."
   ]
  },
  {
   "cell_type": "code",
   "execution_count": 19,
   "id": "b4261b69",
   "metadata": {},
   "outputs": [
    {
     "data": {
      "text/plain": [
       "(array([[9., 0., 0., 0., 0., 0., 0., 0., 0., 1.],\n",
       "        [9., 0., 0., 0., 0., 0., 0., 0., 0., 1.],\n",
       "        [9., 0., 0., 0., 0., 0., 0., 0., 0., 1.],\n",
       "        [9., 0., 0., 0., 0., 0., 0., 0., 0., 1.],\n",
       "        [9., 0., 0., 0., 0., 0., 0., 0., 0., 1.],\n",
       "        [9., 0., 0., 0., 0., 0., 0., 0., 0., 1.],\n",
       "        [9., 0., 0., 0., 0., 0., 0., 0., 0., 1.],\n",
       "        [9., 0., 0., 0., 0., 0., 0., 0., 0., 1.],\n",
       "        [9., 0., 0., 0., 0., 0., 0., 0., 1., 0.],\n",
       "        [9., 0., 0., 0., 0., 0., 0., 0., 0., 1.]]),\n",
       " array([0. , 0.1, 0.2, 0.3, 0.4, 0.5, 0.6, 0.7, 0.8, 0.9, 1. ]),\n",
       " <a list of 10 BarContainer objects>)"
      ]
     },
     "execution_count": 19,
     "metadata": {},
     "output_type": "execute_result"
    },
    {
     "data": {
      "image/png": "[encoded data removed]",
      "text/plain": [
       "<Figure size 432x288 with 1 Axes>"
      ]
     },
     "metadata": {},
     "output_type": "display_data"
    }
   ],
   "source": [
    "plt.hist(t5)"
   ]
  },
  {
   "cell_type": "markdown",
   "id": "d22dc5f8",
   "metadata": {},
   "source": [
    "### t3, 즉 svm 이 모델이 이 데이터에 적합함을 알 수 있다.(0과 1에 모여져있고, 가까움)\n",
    "### 대각선 라인(1,1) (2,2) (3,3) (4,4) ... (n,n) 을 빼고 다 더하면 최소인 모델이 가장 적합하다 "
   ]
  },
  {
   "cell_type": "code",
   "execution_count": 20,
   "id": "7f8e3577",
   "metadata": {},
   "outputs": [
    {
     "ename": "NameError",
     "evalue": "name 'sum5' is not defined",
     "output_type": "error",
     "traceback": [
      "\u001b[0;31m---------------------------------------------------------------------------\u001b[0m",
      "\u001b[0;31mNameError\u001b[0m                                 Traceback (most recent call last)",
      "\u001b[0;32m/tmp/ipykernel_13/3108478811.py\u001b[0m in \u001b[0;36m<module>\u001b[0;34m\u001b[0m\n\u001b[0;32m----> 1\u001b[0;31m \u001b[0mprint\u001b[0m\u001b[0;34m(\u001b[0m\u001b[0msum1\u001b[0m\u001b[0;34m,\u001b[0m\u001b[0msum2\u001b[0m\u001b[0;34m,\u001b[0m\u001b[0msum3\u001b[0m\u001b[0;34m,\u001b[0m\u001b[0msum4\u001b[0m\u001b[0;34m,\u001b[0m\u001b[0msum5\u001b[0m\u001b[0;34m)\u001b[0m\u001b[0;34m\u001b[0m\u001b[0;34m\u001b[0m\u001b[0m\n\u001b[0m",
      "\u001b[0;31mNameError\u001b[0m: name 'sum5' is not defined"
     ]
    }
   ],
   "source": [
    "print(sum1,sum2,sum3,sum4,sum5)"
   ]
  },
  {
   "cell_type": "code",
   "execution_count": 21,
   "id": "87491070",
   "metadata": {},
   "outputs": [
    {
     "name": "stdout",
     "output_type": "stream",
     "text": [
      "0.13875696008647437\n",
      "0.13875696008647437\n",
      "0.010101744186046525\n",
      "0.0594039799366408\n",
      "0.04585589256844376\n"
     ]
    }
   ],
   "source": [
    "e = [e2,e3,e4,e5,e6]\n",
    "a = [a2,a3,a4,a5,a6]\n",
    "\n",
    "for x in range (5):\n",
    "    print(e[x]/a[x])\n"
   ]
  },
  {
   "cell_type": "code",
   "execution_count": 22,
   "id": "d83ac3cf",
   "metadata": {},
   "outputs": [],
   "source": [
    "#다음의 지표에 따라 0인 모델3가 1등, 4,5번 모델이 공동2등, 1,2번 모델이 공동3등이 되었다"
   ]
  },
  {
   "cell_type": "code",
   "execution_count": 23,
   "id": "43bd1bf0",
   "metadata": {},
   "outputs": [
    {
     "name": "stdout",
     "output_type": "stream",
     "text": [
      "0.13875696008647437\n",
      "0.13875696008647437\n",
      "0.010101744186046525\n",
      "0.0594039799366408\n",
      "0.04585589256844376\n"
     ]
    }
   ],
   "source": [
    "e = [e2,e3,e4,e5,e6]\n",
    "a = [a2,a3,a4,a5,a6]\n",
    "\n",
    "for x in range (5):\n",
    "    print(e[x]/a[x])"
   ]
  },
  {
   "cell_type": "code",
   "execution_count": null,
   "id": "eba11c2c",
   "metadata": {},
   "outputs": [],
   "source": [
    "# 1등 모델이 svm 입니다! sgd 가 3등이고,logistic이 2등이고, 4등이 decision tree 공동 4등 하였습니다!\n",
    "# 히스토그램을 보면 확인할 수 있습니다!\n",
    "#이번 데이터는 -9부터 9까지 k가 이동해서 다른 것과는 범위를 크게 만들어야했습니다!"
   ]
  },
  {
   "cell_type": "code",
   "execution_count": null,
   "id": "8d336a42",
   "metadata": {},
   "outputs": [],
   "source": []
  }
 ],
 "metadata": {
  "kernelspec": {
   "display_name": "Python 3 (ipykernel)",
   "language": "python",
   "name": "python3"
  },
  "language_info": {
   "codemirror_mode": {
    "name": "ipython",
    "version": 3
   },
   "file_extension": ".py",
   "mimetype": "text/x-python",
   "name": "python",
   "nbconvert_exporter": "python",
   "pygments_lexer": "ipython3",
   "version": "3.9.7"
  }
 },
 "nbformat": 4,
 "nbformat_minor": 5
}
